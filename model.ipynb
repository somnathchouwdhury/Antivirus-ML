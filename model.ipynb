{
 "cells": [
  {
   "cell_type": "code",
   "execution_count": 1,
   "id": "dd2ed9b1-350a-45e9-81d7-e152775307dc",
   "metadata": {
    "scrolled": true
   },
   "outputs": [],
   "source": [
    "import pandas as pd\n",
    "import numpy as np\n",
    "import seaborn as snb\n",
    "import os\n",
    "import pickle\n",
    "import sklearn as sk\n",
    "import sklearn.ensemble as ske\n",
    "from sklearn import model_selection, tree, linear_model,svm\n",
    "from sklearn.feature_selection import SelectFromModel\n",
    "import joblib\n",
    "from sklearn.naive_bayes import GaussianNB\n",
    "from sklearn.metrics import confusion_matrix\n",
    "import operator\n",
    "from sklearn.metrics import classification_report\n",
    "from sklearn.metrics import accuracy_score\n",
    "from sklearn.neighbors import KNeighborsClassifier\n"
   ]
  },
  {
   "cell_type": "code",
   "execution_count": 2,
   "id": "f7494bd4-3c0c-47fc-b28b-d5730c7ea394",
   "metadata": {},
   "outputs": [],
   "source": [
    "#print(os.listdir())"
   ]
  },
  {
   "cell_type": "code",
   "execution_count": 3,
   "id": "3f2eb748-d2b9-4ed4-8ce0-be3fb1b43bf0",
   "metadata": {},
   "outputs": [],
   "source": [
    "df=pd.read_csv(\"data.csv\", sep=\"|\")"
   ]
  },
  {
   "cell_type": "code",
   "execution_count": 4,
   "id": "cfff63bd-260b-4f74-8b15-8b2b75fd1e60",
   "metadata": {},
   "outputs": [
    {
     "data": {
      "text/html": [
       "<div>\n",
       "<style scoped>\n",
       "    .dataframe tbody tr th:only-of-type {\n",
       "        vertical-align: middle;\n",
       "    }\n",
       "\n",
       "    .dataframe tbody tr th {\n",
       "        vertical-align: top;\n",
       "    }\n",
       "\n",
       "    .dataframe thead th {\n",
       "        text-align: right;\n",
       "    }\n",
       "</style>\n",
       "<table border=\"1\" class=\"dataframe\">\n",
       "  <thead>\n",
       "    <tr style=\"text-align: right;\">\n",
       "      <th></th>\n",
       "      <th>Name</th>\n",
       "      <th>md5</th>\n",
       "      <th>Machine</th>\n",
       "      <th>SizeOfOptionalHeader</th>\n",
       "      <th>Characteristics</th>\n",
       "      <th>MajorLinkerVersion</th>\n",
       "      <th>MinorLinkerVersion</th>\n",
       "      <th>SizeOfCode</th>\n",
       "      <th>SizeOfInitializedData</th>\n",
       "      <th>SizeOfUninitializedData</th>\n",
       "      <th>...</th>\n",
       "      <th>ResourcesNb</th>\n",
       "      <th>ResourcesMeanEntropy</th>\n",
       "      <th>ResourcesMinEntropy</th>\n",
       "      <th>ResourcesMaxEntropy</th>\n",
       "      <th>ResourcesMeanSize</th>\n",
       "      <th>ResourcesMinSize</th>\n",
       "      <th>ResourcesMaxSize</th>\n",
       "      <th>LoadConfigurationSize</th>\n",
       "      <th>VersionInformationSize</th>\n",
       "      <th>legitimate</th>\n",
       "    </tr>\n",
       "  </thead>\n",
       "  <tbody>\n",
       "    <tr>\n",
       "      <th>0</th>\n",
       "      <td>memtest.exe</td>\n",
       "      <td>631ea355665f28d4707448e442fbf5b8</td>\n",
       "      <td>332</td>\n",
       "      <td>224</td>\n",
       "      <td>258</td>\n",
       "      <td>9</td>\n",
       "      <td>0</td>\n",
       "      <td>361984</td>\n",
       "      <td>115712</td>\n",
       "      <td>0</td>\n",
       "      <td>...</td>\n",
       "      <td>4</td>\n",
       "      <td>3.262823</td>\n",
       "      <td>2.568844</td>\n",
       "      <td>3.537939</td>\n",
       "      <td>8797.000000</td>\n",
       "      <td>216</td>\n",
       "      <td>18032</td>\n",
       "      <td>0</td>\n",
       "      <td>16</td>\n",
       "      <td>1</td>\n",
       "    </tr>\n",
       "    <tr>\n",
       "      <th>1</th>\n",
       "      <td>ose.exe</td>\n",
       "      <td>9d10f99a6712e28f8acd5641e3a7ea6b</td>\n",
       "      <td>332</td>\n",
       "      <td>224</td>\n",
       "      <td>3330</td>\n",
       "      <td>9</td>\n",
       "      <td>0</td>\n",
       "      <td>130560</td>\n",
       "      <td>19968</td>\n",
       "      <td>0</td>\n",
       "      <td>...</td>\n",
       "      <td>2</td>\n",
       "      <td>4.250461</td>\n",
       "      <td>3.420744</td>\n",
       "      <td>5.080177</td>\n",
       "      <td>837.000000</td>\n",
       "      <td>518</td>\n",
       "      <td>1156</td>\n",
       "      <td>72</td>\n",
       "      <td>18</td>\n",
       "      <td>1</td>\n",
       "    </tr>\n",
       "    <tr>\n",
       "      <th>2</th>\n",
       "      <td>setup.exe</td>\n",
       "      <td>4d92f518527353c0db88a70fddcfd390</td>\n",
       "      <td>332</td>\n",
       "      <td>224</td>\n",
       "      <td>3330</td>\n",
       "      <td>9</td>\n",
       "      <td>0</td>\n",
       "      <td>517120</td>\n",
       "      <td>621568</td>\n",
       "      <td>0</td>\n",
       "      <td>...</td>\n",
       "      <td>11</td>\n",
       "      <td>4.426324</td>\n",
       "      <td>2.846449</td>\n",
       "      <td>5.271813</td>\n",
       "      <td>31102.272727</td>\n",
       "      <td>104</td>\n",
       "      <td>270376</td>\n",
       "      <td>72</td>\n",
       "      <td>18</td>\n",
       "      <td>1</td>\n",
       "    </tr>\n",
       "    <tr>\n",
       "      <th>3</th>\n",
       "      <td>DW20.EXE</td>\n",
       "      <td>a41e524f8d45f0074fd07805ff0c9b12</td>\n",
       "      <td>332</td>\n",
       "      <td>224</td>\n",
       "      <td>258</td>\n",
       "      <td>9</td>\n",
       "      <td>0</td>\n",
       "      <td>585728</td>\n",
       "      <td>369152</td>\n",
       "      <td>0</td>\n",
       "      <td>...</td>\n",
       "      <td>10</td>\n",
       "      <td>4.364291</td>\n",
       "      <td>2.669314</td>\n",
       "      <td>6.400720</td>\n",
       "      <td>1457.000000</td>\n",
       "      <td>90</td>\n",
       "      <td>4264</td>\n",
       "      <td>72</td>\n",
       "      <td>18</td>\n",
       "      <td>1</td>\n",
       "    </tr>\n",
       "    <tr>\n",
       "      <th>4</th>\n",
       "      <td>dwtrig20.exe</td>\n",
       "      <td>c87e561258f2f8650cef999bf643a731</td>\n",
       "      <td>332</td>\n",
       "      <td>224</td>\n",
       "      <td>258</td>\n",
       "      <td>9</td>\n",
       "      <td>0</td>\n",
       "      <td>294912</td>\n",
       "      <td>247296</td>\n",
       "      <td>0</td>\n",
       "      <td>...</td>\n",
       "      <td>2</td>\n",
       "      <td>4.306100</td>\n",
       "      <td>3.421598</td>\n",
       "      <td>5.190603</td>\n",
       "      <td>1074.500000</td>\n",
       "      <td>849</td>\n",
       "      <td>1300</td>\n",
       "      <td>72</td>\n",
       "      <td>18</td>\n",
       "      <td>1</td>\n",
       "    </tr>\n",
       "    <tr>\n",
       "      <th>...</th>\n",
       "      <td>...</td>\n",
       "      <td>...</td>\n",
       "      <td>...</td>\n",
       "      <td>...</td>\n",
       "      <td>...</td>\n",
       "      <td>...</td>\n",
       "      <td>...</td>\n",
       "      <td>...</td>\n",
       "      <td>...</td>\n",
       "      <td>...</td>\n",
       "      <td>...</td>\n",
       "      <td>...</td>\n",
       "      <td>...</td>\n",
       "      <td>...</td>\n",
       "      <td>...</td>\n",
       "      <td>...</td>\n",
       "      <td>...</td>\n",
       "      <td>...</td>\n",
       "      <td>...</td>\n",
       "      <td>...</td>\n",
       "      <td>...</td>\n",
       "    </tr>\n",
       "    <tr>\n",
       "      <th>138042</th>\n",
       "      <td>VirusShare_8e292b418568d6e7b87f2a32aee7074b</td>\n",
       "      <td>8e292b418568d6e7b87f2a32aee7074b</td>\n",
       "      <td>332</td>\n",
       "      <td>224</td>\n",
       "      <td>258</td>\n",
       "      <td>11</td>\n",
       "      <td>0</td>\n",
       "      <td>205824</td>\n",
       "      <td>223744</td>\n",
       "      <td>0</td>\n",
       "      <td>...</td>\n",
       "      <td>7</td>\n",
       "      <td>4.122736</td>\n",
       "      <td>1.370260</td>\n",
       "      <td>7.677091</td>\n",
       "      <td>14900.714286</td>\n",
       "      <td>16</td>\n",
       "      <td>81654</td>\n",
       "      <td>72</td>\n",
       "      <td>0</td>\n",
       "      <td>0</td>\n",
       "    </tr>\n",
       "    <tr>\n",
       "      <th>138043</th>\n",
       "      <td>VirusShare_260d9e2258aed4c8a3bbd703ec895822</td>\n",
       "      <td>260d9e2258aed4c8a3bbd703ec895822</td>\n",
       "      <td>332</td>\n",
       "      <td>224</td>\n",
       "      <td>33167</td>\n",
       "      <td>2</td>\n",
       "      <td>25</td>\n",
       "      <td>37888</td>\n",
       "      <td>185344</td>\n",
       "      <td>0</td>\n",
       "      <td>...</td>\n",
       "      <td>26</td>\n",
       "      <td>3.377663</td>\n",
       "      <td>2.031619</td>\n",
       "      <td>5.050074</td>\n",
       "      <td>6905.846154</td>\n",
       "      <td>44</td>\n",
       "      <td>67624</td>\n",
       "      <td>0</td>\n",
       "      <td>15</td>\n",
       "      <td>0</td>\n",
       "    </tr>\n",
       "    <tr>\n",
       "      <th>138044</th>\n",
       "      <td>VirusShare_8d088a51b7d225c9f5d11d239791ec3f</td>\n",
       "      <td>8d088a51b7d225c9f5d11d239791ec3f</td>\n",
       "      <td>332</td>\n",
       "      <td>224</td>\n",
       "      <td>258</td>\n",
       "      <td>10</td>\n",
       "      <td>0</td>\n",
       "      <td>118272</td>\n",
       "      <td>380416</td>\n",
       "      <td>0</td>\n",
       "      <td>...</td>\n",
       "      <td>22</td>\n",
       "      <td>6.825406</td>\n",
       "      <td>2.617026</td>\n",
       "      <td>7.990487</td>\n",
       "      <td>14981.909091</td>\n",
       "      <td>48</td>\n",
       "      <td>22648</td>\n",
       "      <td>72</td>\n",
       "      <td>14</td>\n",
       "      <td>0</td>\n",
       "    </tr>\n",
       "    <tr>\n",
       "      <th>138045</th>\n",
       "      <td>VirusShare_4286dccf67ca220fe67635388229a9f3</td>\n",
       "      <td>4286dccf67ca220fe67635388229a9f3</td>\n",
       "      <td>332</td>\n",
       "      <td>224</td>\n",
       "      <td>33166</td>\n",
       "      <td>2</td>\n",
       "      <td>25</td>\n",
       "      <td>49152</td>\n",
       "      <td>16896</td>\n",
       "      <td>0</td>\n",
       "      <td>...</td>\n",
       "      <td>10</td>\n",
       "      <td>3.421627</td>\n",
       "      <td>2.060964</td>\n",
       "      <td>4.739744</td>\n",
       "      <td>601.600000</td>\n",
       "      <td>16</td>\n",
       "      <td>2216</td>\n",
       "      <td>0</td>\n",
       "      <td>0</td>\n",
       "      <td>0</td>\n",
       "    </tr>\n",
       "    <tr>\n",
       "      <th>138046</th>\n",
       "      <td>VirusShare_d7648eae45f09b3adb75127f43be6d11</td>\n",
       "      <td>d7648eae45f09b3adb75127f43be6d11</td>\n",
       "      <td>332</td>\n",
       "      <td>224</td>\n",
       "      <td>258</td>\n",
       "      <td>11</td>\n",
       "      <td>0</td>\n",
       "      <td>111616</td>\n",
       "      <td>468480</td>\n",
       "      <td>0</td>\n",
       "      <td>...</td>\n",
       "      <td>4</td>\n",
       "      <td>4.407252</td>\n",
       "      <td>1.980482</td>\n",
       "      <td>6.115374</td>\n",
       "      <td>96625.000000</td>\n",
       "      <td>20</td>\n",
       "      <td>318464</td>\n",
       "      <td>72</td>\n",
       "      <td>0</td>\n",
       "      <td>0</td>\n",
       "    </tr>\n",
       "  </tbody>\n",
       "</table>\n",
       "<p>138047 rows × 57 columns</p>\n",
       "</div>"
      ],
      "text/plain": [
       "                                               Name  \\\n",
       "0                                       memtest.exe   \n",
       "1                                           ose.exe   \n",
       "2                                         setup.exe   \n",
       "3                                          DW20.EXE   \n",
       "4                                      dwtrig20.exe   \n",
       "...                                             ...   \n",
       "138042  VirusShare_8e292b418568d6e7b87f2a32aee7074b   \n",
       "138043  VirusShare_260d9e2258aed4c8a3bbd703ec895822   \n",
       "138044  VirusShare_8d088a51b7d225c9f5d11d239791ec3f   \n",
       "138045  VirusShare_4286dccf67ca220fe67635388229a9f3   \n",
       "138046  VirusShare_d7648eae45f09b3adb75127f43be6d11   \n",
       "\n",
       "                                     md5  Machine  SizeOfOptionalHeader  \\\n",
       "0       631ea355665f28d4707448e442fbf5b8      332                   224   \n",
       "1       9d10f99a6712e28f8acd5641e3a7ea6b      332                   224   \n",
       "2       4d92f518527353c0db88a70fddcfd390      332                   224   \n",
       "3       a41e524f8d45f0074fd07805ff0c9b12      332                   224   \n",
       "4       c87e561258f2f8650cef999bf643a731      332                   224   \n",
       "...                                  ...      ...                   ...   \n",
       "138042  8e292b418568d6e7b87f2a32aee7074b      332                   224   \n",
       "138043  260d9e2258aed4c8a3bbd703ec895822      332                   224   \n",
       "138044  8d088a51b7d225c9f5d11d239791ec3f      332                   224   \n",
       "138045  4286dccf67ca220fe67635388229a9f3      332                   224   \n",
       "138046  d7648eae45f09b3adb75127f43be6d11      332                   224   \n",
       "\n",
       "        Characteristics  MajorLinkerVersion  MinorLinkerVersion  SizeOfCode  \\\n",
       "0                   258                   9                   0      361984   \n",
       "1                  3330                   9                   0      130560   \n",
       "2                  3330                   9                   0      517120   \n",
       "3                   258                   9                   0      585728   \n",
       "4                   258                   9                   0      294912   \n",
       "...                 ...                 ...                 ...         ...   \n",
       "138042              258                  11                   0      205824   \n",
       "138043            33167                   2                  25       37888   \n",
       "138044              258                  10                   0      118272   \n",
       "138045            33166                   2                  25       49152   \n",
       "138046              258                  11                   0      111616   \n",
       "\n",
       "        SizeOfInitializedData  SizeOfUninitializedData  ...  ResourcesNb  \\\n",
       "0                      115712                        0  ...            4   \n",
       "1                       19968                        0  ...            2   \n",
       "2                      621568                        0  ...           11   \n",
       "3                      369152                        0  ...           10   \n",
       "4                      247296                        0  ...            2   \n",
       "...                       ...                      ...  ...          ...   \n",
       "138042                 223744                        0  ...            7   \n",
       "138043                 185344                        0  ...           26   \n",
       "138044                 380416                        0  ...           22   \n",
       "138045                  16896                        0  ...           10   \n",
       "138046                 468480                        0  ...            4   \n",
       "\n",
       "        ResourcesMeanEntropy  ResourcesMinEntropy  ResourcesMaxEntropy  \\\n",
       "0                   3.262823             2.568844             3.537939   \n",
       "1                   4.250461             3.420744             5.080177   \n",
       "2                   4.426324             2.846449             5.271813   \n",
       "3                   4.364291             2.669314             6.400720   \n",
       "4                   4.306100             3.421598             5.190603   \n",
       "...                      ...                  ...                  ...   \n",
       "138042              4.122736             1.370260             7.677091   \n",
       "138043              3.377663             2.031619             5.050074   \n",
       "138044              6.825406             2.617026             7.990487   \n",
       "138045              3.421627             2.060964             4.739744   \n",
       "138046              4.407252             1.980482             6.115374   \n",
       "\n",
       "        ResourcesMeanSize  ResourcesMinSize  ResourcesMaxSize  \\\n",
       "0             8797.000000               216             18032   \n",
       "1              837.000000               518              1156   \n",
       "2            31102.272727               104            270376   \n",
       "3             1457.000000                90              4264   \n",
       "4             1074.500000               849              1300   \n",
       "...                   ...               ...               ...   \n",
       "138042       14900.714286                16             81654   \n",
       "138043        6905.846154                44             67624   \n",
       "138044       14981.909091                48             22648   \n",
       "138045         601.600000                16              2216   \n",
       "138046       96625.000000                20            318464   \n",
       "\n",
       "        LoadConfigurationSize  VersionInformationSize  legitimate  \n",
       "0                           0                      16           1  \n",
       "1                          72                      18           1  \n",
       "2                          72                      18           1  \n",
       "3                          72                      18           1  \n",
       "4                          72                      18           1  \n",
       "...                       ...                     ...         ...  \n",
       "138042                     72                       0           0  \n",
       "138043                      0                      15           0  \n",
       "138044                     72                      14           0  \n",
       "138045                      0                       0           0  \n",
       "138046                     72                       0           0  \n",
       "\n",
       "[138047 rows x 57 columns]"
      ]
     },
     "execution_count": 4,
     "metadata": {},
     "output_type": "execute_result"
    }
   ],
   "source": [
    "df\n",
    "\n"
   ]
  },
  {
   "cell_type": "code",
   "execution_count": 5,
   "id": "f525f080-cfbf-4d38-b80e-44e24539dd56",
   "metadata": {},
   "outputs": [],
   "source": [
    "X = df.drop(['Name', 'md5', 'legitimate'], axis=1).values\n",
    "y = df['legitimate'].values\n"
   ]
  },
  {
   "cell_type": "code",
   "execution_count": 6,
   "id": "b44d8ff2-e941-477d-85c2-fca92ae54d40",
   "metadata": {},
   "outputs": [
    {
     "data": {
      "text/plain": [
       "54"
      ]
     },
     "execution_count": 6,
     "metadata": {},
     "output_type": "execute_result"
    }
   ],
   "source": [
    "X\n",
    "y\n",
    "X.shape[1]"
   ]
  },
  {
   "cell_type": "code",
   "execution_count": 7,
   "id": "1e20c8bd-488d-4e59-ae56-c1c76909a4a5",
   "metadata": {},
   "outputs": [],
   "source": [
    "featureSel = ske.ExtraTreesClassifier().fit(X, y)\n",
    "model = SelectFromModel(featureSel, prefit=True)\n",
    "X_new = model.transform(X)\n",
    "nb_features = X_new.shape[1]"
   ]
  },
  {
   "cell_type": "code",
   "execution_count": null,
   "id": "3925ec9f-dfee-4512-9ad6-e8b53980cbca",
   "metadata": {},
   "outputs": [],
   "source": []
  },
  {
   "cell_type": "code",
   "execution_count": 8,
   "id": "7cd1c7be-3177-4bf5-9805-0d9f6bd301bb",
   "metadata": {},
   "outputs": [],
   "source": [
    "X_train, X_test, y_train, y_test = model_selection.train_test_split(X_new, y ,test_size=0.2)"
   ]
  },
  {
   "cell_type": "code",
   "execution_count": 9,
   "id": "8999c820-b2f3-42e4-95bc-70d95c92995d",
   "metadata": {},
   "outputs": [
    {
     "data": {
      "text/plain": [
       "13"
      ]
     },
     "execution_count": 9,
     "metadata": {},
     "output_type": "execute_result"
    }
   ],
   "source": [
    "features = []\n",
    "nb_features #imp features"
   ]
  },
  {
   "cell_type": "code",
   "execution_count": 10,
   "id": "d14c0952",
   "metadata": {},
   "outputs": [],
   "source": [
    "indices = np.argsort(featureSel.feature_importances_)[::-1][:nb_features]"
   ]
  },
  {
   "cell_type": "code",
   "execution_count": 11,
   "id": "f4d7543e",
   "metadata": {},
   "outputs": [
    {
     "data": {
      "text/plain": [
       "array([24,  0, 53,  2, 23, 11, 34,  1, 18, 48, 47, 33, 14])"
      ]
     },
     "execution_count": 11,
     "metadata": {},
     "output_type": "execute_result"
    }
   ],
   "source": [
    "indices"
   ]
  },
  {
   "cell_type": "code",
   "execution_count": 12,
   "id": "1d96e59f",
   "metadata": {},
   "outputs": [
    {
     "name": "stdout",
     "output_type": "stream",
     "text": [
      "1. feature DllCharacteristics (0.153084)\n",
      "2. feature Machine (0.093354)\n",
      "3. feature VersionInformationSize (0.083009)\n",
      "4. feature Characteristics (0.081107)\n",
      "5. feature Subsystem (0.064561)\n",
      "6. feature ImageBase (0.064230)\n",
      "7. feature SectionsMaxEntropy (0.054443)\n",
      "8. feature SizeOfOptionalHeader (0.050382)\n",
      "9. feature MajorSubsystemVersion (0.048081)\n",
      "10. feature ResourcesMaxEntropy (0.039746)\n",
      "11. feature ResourcesMinEntropy (0.025773)\n",
      "12. feature SectionsMinEntropy (0.021050)\n",
      "13. feature MajorOperatingSystemVersion (0.020728)\n"
     ]
    }
   ],
   "source": [
    "for f in range(nb_features):\n",
    "    print(\"%d. feature %s (%f)\" % (f + 1, df.columns[2+indices[f]], featureSel.feature_importances_[indices[f]]))"
   ]
  },
  {
   "cell_type": "code",
   "execution_count": 13,
   "id": "3997ad81",
   "metadata": {},
   "outputs": [],
   "source": [
    "for f in sorted(np.argsort(featureSel.feature_importances_)[::-1][:nb_features]):\n",
    "    features.append(df.columns[2+f])"
   ]
  },
  {
   "cell_type": "code",
   "execution_count": 21,
   "id": "22ef59f5",
   "metadata": {},
   "outputs": [
    {
     "data": {
      "text/plain": [
       "['Machine',\n",
       " 'SizeOfOptionalHeader',\n",
       " 'Characteristics',\n",
       " 'ImageBase',\n",
       " 'MajorOperatingSystemVersion',\n",
       " 'MajorSubsystemVersion',\n",
       " 'Subsystem',\n",
       " 'DllCharacteristics',\n",
       " 'SectionsMinEntropy',\n",
       " 'SectionsMaxEntropy',\n",
       " 'ResourcesMinEntropy',\n",
       " 'ResourcesMaxEntropy',\n",
       " 'VersionInformationSize']"
      ]
     },
     "execution_count": 21,
     "metadata": {},
     "output_type": "execute_result"
    }
   ],
   "source": [
    "features"
   ]
  },
  {
   "cell_type": "code",
   "execution_count": 22,
   "id": "2f93541e",
   "metadata": {},
   "outputs": [],
   "source": [
    "models = {\n",
    "    #\"LR\" : linear_model.LogisticRegression(),\n",
    "    \"KNN\": KNeighborsClassifier(),\n",
    "    \"DecisionTree\": tree.DecisionTreeClassifier(),\n",
    "    \"RandomForest\": ske.RandomForestClassifier(),\n",
    "    \"GradientBoosting\": ske.GradientBoostingClassifier(),\n",
    "    \"AdaBoost\": ske.AdaBoostClassifier(),\n",
    "    #\"GNB\": GaussianNB(),\n",
    "    #\"SVC\": svm.SVC()\n",
    "    }"
   ]
  },
  {
   "cell_type": "code",
   "execution_count": 23,
   "id": "2ec1c067",
   "metadata": {},
   "outputs": [
    {
     "name": "stdout",
     "output_type": "stream",
     "text": [
      "\n",
      "Now testing algorithms\n",
      "KNN : 98.953278 %\n",
      "DecisionTree : 99.137993 %\n",
      "RandomForest : 99.373415 %\n",
      "GradientBoosting : 98.942412 %\n",
      "AdaBoost : 98.515031 %\n"
     ]
    }
   ],
   "source": [
    "results = {}\n",
    "print(\"\\nNow testing algorithms\")\n",
    "for x in models:\n",
    "    clf = models[x]\n",
    "    clf.fit(X_train, y_train)\n",
    "    score = clf.score(X_test, y_test)\n",
    "    print(\"%s : %f %%\" % (x, score*100))\n",
    "    results[x] = score"
   ]
  },
  {
   "cell_type": "code",
   "execution_count": 29,
   "id": "d2bd1079",
   "metadata": {},
   "outputs": [
    {
     "name": "stdout",
     "output_type": "stream",
     "text": [
      "\n",
      "Winner algorithm is RandomForest with a 99.373415 % success\n"
     ]
    }
   ],
   "source": [
    "winner = max(results, key=results.get)\n",
    "print('\\nWinner algorithm is %s with a %f %% success' % (winner, results[winner]*100))"
   ]
  },
  {
   "cell_type": "code",
   "execution_count": 30,
   "id": "0620d292",
   "metadata": {},
   "outputs": [
    {
     "name": "stdout",
     "output_type": "stream",
     "text": [
      "Saving algorithm and feature list in classifier directory...\n"
     ]
    },
    {
     "ename": "TypeError",
     "evalue": "write() argument must be str, not bytes",
     "output_type": "error",
     "traceback": [
      "\u001b[0;31m---------------------------------------------------------------------------\u001b[0m",
      "\u001b[0;31mTypeError\u001b[0m                                 Traceback (most recent call last)",
      "\u001b[0;32m/tmp/ipykernel_3225/1825175822.py\u001b[0m in \u001b[0;36m<module>\u001b[0;34m\u001b[0m\n\u001b[1;32m      1\u001b[0m \u001b[0mprint\u001b[0m\u001b[0;34m(\u001b[0m\u001b[0;34m'Saving algorithm and feature list in classifier directory...'\u001b[0m\u001b[0;34m)\u001b[0m\u001b[0;34m\u001b[0m\u001b[0;34m\u001b[0m\u001b[0m\n\u001b[1;32m      2\u001b[0m \u001b[0mjoblib\u001b[0m\u001b[0;34m.\u001b[0m\u001b[0mdump\u001b[0m\u001b[0;34m(\u001b[0m\u001b[0mresults\u001b[0m\u001b[0;34m[\u001b[0m\u001b[0mwinner\u001b[0m\u001b[0;34m]\u001b[0m\u001b[0;34m,\u001b[0m \u001b[0;34m'classifier/classifier.pkl'\u001b[0m\u001b[0;34m)\u001b[0m\u001b[0;34m\u001b[0m\u001b[0;34m\u001b[0m\u001b[0m\n\u001b[0;32m----> 3\u001b[0;31m \u001b[0mopen\u001b[0m\u001b[0;34m(\u001b[0m\u001b[0;34m'classifier/features.pkl'\u001b[0m\u001b[0;34m,\u001b[0m \u001b[0;34m'w'\u001b[0m\u001b[0;34m)\u001b[0m\u001b[0;34m.\u001b[0m\u001b[0mwrite\u001b[0m\u001b[0;34m(\u001b[0m\u001b[0mpickle\u001b[0m\u001b[0;34m.\u001b[0m\u001b[0mdumps\u001b[0m\u001b[0;34m(\u001b[0m\u001b[0mfeatures\u001b[0m\u001b[0;34m)\u001b[0m\u001b[0;34m)\u001b[0m\u001b[0;34m\u001b[0m\u001b[0;34m\u001b[0m\u001b[0m\n\u001b[0m\u001b[1;32m      4\u001b[0m \u001b[0mprint\u001b[0m\u001b[0;34m(\u001b[0m\u001b[0;34m'Saved'\u001b[0m\u001b[0;34m)\u001b[0m\u001b[0;34m\u001b[0m\u001b[0;34m\u001b[0m\u001b[0m\n",
      "\u001b[0;31mTypeError\u001b[0m: write() argument must be str, not bytes"
     ]
    }
   ],
   "source": [
    "print('Saving algorithm and feature list in classifier directory...')\n",
    "joblib.dump(results[winner], 'classifier/classifier.pkl')\n",
    "open('classifier/features.pkl', 'w').write(pickle.dumps(features))\n",
    "print('Saved')"
   ]
  },
  {
   "cell_type": "code",
   "execution_count": 31,
   "id": "979c1dc8",
   "metadata": {},
   "outputs": [
    {
     "ename": "AttributeError",
     "evalue": "'numpy.float64' object has no attribute 'fit'",
     "output_type": "error",
     "traceback": [
      "\u001b[0;31m---------------------------------------------------------------------------\u001b[0m",
      "\u001b[0;31mAttributeError\u001b[0m                            Traceback (most recent call last)",
      "\u001b[0;32m/tmp/ipykernel_3225/3164431253.py\u001b[0m in \u001b[0;36m<module>\u001b[0;34m\u001b[0m\n\u001b[1;32m      1\u001b[0m \u001b[0mclf\u001b[0m \u001b[0;34m=\u001b[0m \u001b[0mresults\u001b[0m\u001b[0;34m[\u001b[0m\u001b[0mwinner\u001b[0m\u001b[0;34m]\u001b[0m\u001b[0;34m\u001b[0m\u001b[0;34m\u001b[0m\u001b[0m\n\u001b[0;32m----> 2\u001b[0;31m \u001b[0mclf\u001b[0m\u001b[0;34m.\u001b[0m\u001b[0mfit\u001b[0m\u001b[0;34m(\u001b[0m\u001b[0mX_train\u001b[0m\u001b[0;34m,\u001b[0m \u001b[0mY_train\u001b[0m\u001b[0;34m)\u001b[0m\u001b[0;34m\u001b[0m\u001b[0;34m\u001b[0m\u001b[0m\n\u001b[0m\u001b[1;32m      3\u001b[0m \u001b[0mres\u001b[0m \u001b[0;34m=\u001b[0m \u001b[0mclf\u001b[0m\u001b[0;34m.\u001b[0m\u001b[0mpredict\u001b[0m\u001b[0;34m(\u001b[0m\u001b[0mX_test\u001b[0m\u001b[0;34m)\u001b[0m\u001b[0;34m\u001b[0m\u001b[0;34m\u001b[0m\u001b[0m\n\u001b[1;32m      4\u001b[0m \u001b[0mmt\u001b[0m \u001b[0;34m=\u001b[0m \u001b[0mconfusion_matrix\u001b[0m\u001b[0;34m(\u001b[0m\u001b[0my_test\u001b[0m\u001b[0;34m,\u001b[0m \u001b[0mres\u001b[0m\u001b[0;34m)\u001b[0m\u001b[0;34m\u001b[0m\u001b[0;34m\u001b[0m\u001b[0m\n\u001b[1;32m      5\u001b[0m \u001b[0mprint\u001b[0m\u001b[0;34m(\u001b[0m\u001b[0;34m\"False positive rate : %f %%\"\u001b[0m \u001b[0;34m%\u001b[0m \u001b[0;34m(\u001b[0m\u001b[0;34m(\u001b[0m\u001b[0mmt\u001b[0m\u001b[0;34m[\u001b[0m\u001b[0;36m0\u001b[0m\u001b[0;34m]\u001b[0m\u001b[0;34m[\u001b[0m\u001b[0;36m1\u001b[0m\u001b[0;34m]\u001b[0m \u001b[0;34m/\u001b[0m \u001b[0mfloat\u001b[0m\u001b[0;34m(\u001b[0m\u001b[0msum\u001b[0m\u001b[0;34m(\u001b[0m\u001b[0mmt\u001b[0m\u001b[0;34m[\u001b[0m\u001b[0;36m0\u001b[0m\u001b[0;34m]\u001b[0m\u001b[0;34m)\u001b[0m\u001b[0;34m)\u001b[0m\u001b[0;34m)\u001b[0m\u001b[0;34m*\u001b[0m\u001b[0;36m100\u001b[0m\u001b[0;34m)\u001b[0m\u001b[0;34m)\u001b[0m\u001b[0;34m\u001b[0m\u001b[0;34m\u001b[0m\u001b[0m\n",
      "\u001b[0;31mAttributeError\u001b[0m: 'numpy.float64' object has no attribute 'fit'"
     ]
    }
   ],
   "source": [
    "clf = results[winner]\n",
    "clf.fit(X_train, Y_train)\n",
    "res = clf.predict(X_test)\n",
    "mt = confusion_matrix(y_test, res)\n",
    "print(\"False positive rate : %f %%\" % ((mt[0][1] / float(sum(mt[0])))*100))\n",
    "print('False negative rate : %f %%' % ( (mt[1][0] / float(sum(mt[1]))*100)))"
   ]
  },
  {
   "cell_type": "code",
   "execution_count": null,
   "id": "179e61ac",
   "metadata": {},
   "outputs": [],
   "source": []
  },
  {
   "cell_type": "code",
   "execution_count": null,
   "id": "1b94b85a",
   "metadata": {},
   "outputs": [],
   "source": []
  }
 ],
 "metadata": {
  "kernelspec": {
   "display_name": "Python 3 (ipykernel)",
   "language": "python",
   "name": "python3"
  },
  "language_info": {
   "codemirror_mode": {
    "name": "ipython",
    "version": 3
   },
   "file_extension": ".py",
   "mimetype": "text/x-python",
   "name": "python",
   "nbconvert_exporter": "python",
   "pygments_lexer": "ipython3",
   "version": "3.8.8"
  }
 },
 "nbformat": 4,
 "nbformat_minor": 5
}
